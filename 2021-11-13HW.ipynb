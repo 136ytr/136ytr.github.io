{
 "cells": [
  {
   "cell_type": "markdown",
   "id": "b52f104d",
   "metadata": {},
   "source": [
    "# 2021-11-13作业\n",
    "姓名：姚罗然  \n",
    "学号：2020810008  \n",
    "### **参考内容**   \n",
    "> [Markdown 官方教程](https://markdown.com.cn/)  \n",
    "[NumPy 统计函数 | 菜鸟教程](https://www.runoob.com/numpy/numpy-tutorial.html)  \n",
    "[NumPy 中文](https://www.numpy.org.cn/)  \n",
    "[Pandas 教程 | 菜鸟教程](https://www.runoob.com/pandas/pandas-tutorial.html)  \n",
    "[Pandas 中文](https://www.pypandas.cn/)  \n",
    "课件"
   ]
  },
  {
   "cell_type": "markdown",
   "id": "bd10eade",
   "metadata": {},
   "source": [
    "# NumPy"
   ]
  },
  {
   "cell_type": "markdown",
   "id": "b1a12166",
   "metadata": {},
   "source": [
    "1. 请写出一种NumPy的安装方法。"
   ]
  },
  {
   "cell_type": "markdown",
   "id": "63f2fc1c",
   "metadata": {},
   "source": [
    "```bash\n",
    "pip install numpy\n",
    "```"
   ]
  },
  {
   "cell_type": "markdown",
   "id": "630d157c",
   "metadata": {},
   "source": [
    "2. 请列出NumPy创建数组的两种方法。"
   ]
  },
  {
   "cell_type": "code",
   "execution_count": 1,
   "id": "0bd8f001",
   "metadata": {},
   "outputs": [
    {
     "name": "stdout",
     "output_type": "stream",
     "text": [
      "[1 2 3 4 5]\n",
      "[[0 0 0 0 0]\n",
      " [0 0 0 0 0]]\n"
     ]
    }
   ],
   "source": [
    "import numpy as np\n",
    "\n",
    "#1\n",
    "array1 = np.array([1,2,3,4,5])\n",
    "print(array1)\n",
    "\n",
    "#2\n",
    "array2 = np.zeros((2,5), int) \n",
    "print(array2)"
   ]
  },
  {
   "cell_type": "markdown",
   "id": "84f26577",
   "metadata": {},
   "source": [
    "3. 请列出NumPy的两种属性。\n",
    "> 应该是指NumPy数组的属性"
   ]
  },
  {
   "cell_type": "code",
   "execution_count": 2,
   "id": "33dee90e",
   "metadata": {},
   "outputs": [
    {
     "name": "stdout",
     "output_type": "stream",
     "text": [
      "1\n",
      "(2, 5)\n"
     ]
    }
   ],
   "source": [
    "#秩，即轴的数量或维度的数量\n",
    "print(array1.ndim)\n",
    "#数组的维度，对于矩阵，n 行 m 列\n",
    "print(array2.shape)"
   ]
  },
  {
   "cell_type": "markdown",
   "id": "c813b21d",
   "metadata": {},
   "source": [
    "4. 请创建一个数组，并用一种切片方法对其切片。"
   ]
  },
  {
   "cell_type": "code",
   "execution_count": 3,
   "id": "ff697235",
   "metadata": {},
   "outputs": [
    {
     "name": "stdout",
     "output_type": "stream",
     "text": [
      "[3 2 1]\n"
     ]
    }
   ],
   "source": [
    "print (array1[2::-1])"
   ]
  },
  {
   "cell_type": "markdown",
   "id": "e1074f4c",
   "metadata": {},
   "source": [
    "5. 请创建0到11的数组，并进行均等分割为两个等长的数组。"
   ]
  },
  {
   "cell_type": "code",
   "execution_count": 4,
   "id": "36778729",
   "metadata": {},
   "outputs": [
    {
     "data": {
      "text/plain": [
       "[array([0, 1, 2, 3, 4]), array([5, 6, 7, 8, 9])]"
      ]
     },
     "execution_count": 4,
     "metadata": {},
     "output_type": "execute_result"
    }
   ],
   "source": [
    "array3 = np.arange(10)\n",
    "np.split(array3, 2)"
   ]
  },
  {
   "cell_type": "markdown",
   "id": "e46a5ab9",
   "metadata": {},
   "source": [
    "6. 请创建0到6的数组，并计算其总和。"
   ]
  },
  {
   "cell_type": "code",
   "execution_count": 5,
   "id": "d0718c3b",
   "metadata": {},
   "outputs": [
    {
     "data": {
      "text/plain": [
       "15"
      ]
     },
     "execution_count": 5,
     "metadata": {},
     "output_type": "execute_result"
    }
   ],
   "source": [
    "array4 = np.arange(6)\n",
    "np.sum(array4)"
   ]
  },
  {
   "cell_type": "markdown",
   "id": "0b27cf4b",
   "metadata": {},
   "source": [
    "# pandas"
   ]
  },
  {
   "cell_type": "markdown",
   "id": "95642c82",
   "metadata": {},
   "source": [
    "1. 请写出一种pandas的安装方法。"
   ]
  },
  {
   "cell_type": "markdown",
   "id": "9b926b0c",
   "metadata": {},
   "source": [
    "```bash\n",
    "pip install Pandas\n",
    "```"
   ]
  },
  {
   "cell_type": "markdown",
   "id": "d6abdbfc",
   "metadata": {},
   "source": [
    "2. 请写出pandas的两种数据结构，并写出它们各自的一种创建方法。"
   ]
  },
  {
   "cell_type": "code",
   "execution_count": 6,
   "id": "fc896b39",
   "metadata": {},
   "outputs": [
    {
     "name": "stdout",
     "output_type": "stream",
     "text": [
      "0    1\n",
      "1    2\n",
      "2    3\n",
      "3    4\n",
      "4    5\n",
      "dtype: int64\n",
      "   one  two\n",
      "a  1.0  1.0\n",
      "b  2.0  2.0\n",
      "c  3.0  3.0\n",
      "d  NaN  4.0\n"
     ]
    }
   ],
   "source": [
    "import pandas as pd\n",
    "\n",
    "#1. Series (opens new window)是带标签的一维数组，可存储整数、浮点数、字符串、Python 对象等类型的数据。轴标签统称为索引。\n",
    "s = pd.Series([1,2,3,4,5])\n",
    "print(s)\n",
    "\n",
    "#2. DataFrame 是由多种类型的列构成的二维标签数据结构，类似于 Excel 、SQL 表，或 Series 对象构成的字典。\n",
    "d1 = {'one': pd.Series([1., 2., 3.], index=['a', 'b', 'c']),\n",
    "     'two': pd.Series([1., 2., 3., 4.], index=['a', 'b', 'c', 'd'])}\n",
    "df1 = pd.DataFrame(d1)\n",
    "print(df1)"
   ]
  },
  {
   "cell_type": "markdown",
   "id": "c4590700",
   "metadata": {},
   "source": [
    "3. 请写出读取excel文件和读取mysql数据的方法。"
   ]
  },
  {
   "cell_type": "code",
   "execution_count": 7,
   "id": "1df14cbd",
   "metadata": {},
   "outputs": [
    {
     "name": "stdout",
     "output_type": "stream",
     "text": [
      "     列1   列2   列3   列4   列5   列6   列7   列8   列9\n",
      "0   111  222  333  444  555  666  777  888  900\n",
      "1   112  223  334  445  556  667  778  889  901\n",
      "2   113  224  335  446  557  668  779  890  902\n",
      "3   114  225  336  447  558  669  780  891  903\n",
      "4   115  226  337  448  559  670  781  892  904\n",
      "5   116  227  338  449  560  671  782  893  905\n",
      "6   117  228  339  450  561  672  783  894  906\n",
      "7   118  229  340  451  562  673  784  895  907\n",
      "8   119  230  341  452  563  674  785  896  908\n",
      "9   120  231  342  453  564  675  786  897  909\n",
      "10  121  232  343  454  565  676  787  898  910\n",
      "11  122  233  344  455  566  677  788  899  911\n",
      "12  123  234  345  456  567  678  789  900  912\n",
      "13  124  235  346  457  568  679  790  901  913\n",
      "14  125  236  347  444  569  680  791  902  914\n",
      "      majorid      deptid majorname majorassistant     majortel\n",
      "0  2020810008  2020810008      临床医学            姚罗然  15362330731\n"
     ]
    }
   ],
   "source": [
    "#Excel\n",
    "df_excel = pd.read_excel('pandas_demo.xlsx', sheet_name='Sheet1')\n",
    "print(df_excel)\n",
    "\n",
    "#MySQL\n",
    "import pymysql\n",
    "mysql_cn = pymysql.connect(host=\"localhost\", user=\"root\", password=\"pythonclass\", db=\"g9yaoluoran\", charset='utf8')\n",
    "df_mysql = pd.read_sql('select * from g9yaoluoran;', con=mysql_cn)    \n",
    "mysql_cn.close()\n",
    "print(df_mysql)"
   ]
  },
  {
   "cell_type": "markdown",
   "id": "cf4e3af8",
   "metadata": {},
   "source": [
    "4. 请创建一个两行三列的Dataframe，并用自己姓名的拼音替换掉其中某一个值。"
   ]
  },
  {
   "cell_type": "code",
   "execution_count": 8,
   "id": "60230b39",
   "metadata": {},
   "outputs": [
    {
     "name": "stdout",
     "output_type": "stream",
     "text": [
      "   a   b   c\n",
      "0  1   2   3\n",
      "1  5  10  20\n",
      "   a          b   c\n",
      "0  1          2   3\n",
      "1  5  yaoluoran  20\n"
     ]
    }
   ],
   "source": [
    "d2 = [{'a': 1, 'b': 2, 'c':3}, {'a': 5, 'b': 10, 'c': 20}]\n",
    "df2 = pd.DataFrame(d2)\n",
    "print(df2)\n",
    "\n",
    "df2.at[[1],'b'] = 'yaoluoran'\n",
    "print(df2)"
   ]
  }
 ],
 "metadata": {
  "kernelspec": {
   "display_name": "Python 3 (ipykernel)",
   "language": "python",
   "name": "python3"
  },
  "language_info": {
   "codemirror_mode": {
    "name": "ipython",
    "version": 3
   },
   "file_extension": ".py",
   "mimetype": "text/x-python",
   "name": "python",
   "nbconvert_exporter": "python",
   "pygments_lexer": "ipython3",
   "version": "3.7.3"
  }
 },
 "nbformat": 4,
 "nbformat_minor": 5
}
